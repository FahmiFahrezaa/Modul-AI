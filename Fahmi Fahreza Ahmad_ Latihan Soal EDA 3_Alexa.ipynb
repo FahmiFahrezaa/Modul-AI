{
 "cells": [
  {
   "cell_type": "code",
   "execution_count": 3,
   "id": "6d61a35c",
   "metadata": {},
   "outputs": [
    {
     "name": "stdout",
     "output_type": "stream",
     "text": [
      "       Unnamed: 0  vendorid     tpep_pickup_datetime    tpep_dropoff_datetime  \\\n",
      "0               0         2  2019-11-08T10:14:52.000  2019-11-08T10:37:42.000   \n",
      "1               1         2  2019-11-08T10:50:54.000  2019-11-08T10:59:11.000   \n",
      "2               2         2  2019-11-08T10:08:31.000  2019-11-08T10:12:34.000   \n",
      "3               3         2  2019-11-08T10:13:59.000  2019-11-08T10:27:47.000   \n",
      "4               4         2  2019-11-08T10:34:08.000  2019-11-08T11:10:25.000   \n",
      "...           ...       ...                      ...                      ...   \n",
      "49995       49995         2  2019-11-08T13:49:11.000  2019-11-08T14:05:45.000   \n",
      "49996       49996         2  2019-11-08T13:10:25.000  2019-11-08T13:23:16.000   \n",
      "49997       49997         2  2019-11-08T13:48:23.000  2019-11-08T14:02:02.000   \n",
      "49998       49998         2  2019-11-08T13:32:31.000  2019-11-08T13:43:15.000   \n",
      "49999       49999         2  2019-11-08T13:45:17.000  2019-11-08T14:06:39.000   \n",
      "\n",
      "       passenger_count  trip_distance  ratecodeid store_and_fwd_flag  \\\n",
      "0                    5           1.55           1                  N   \n",
      "1                    5           0.84           1                  N   \n",
      "2                    1           0.72           1                  N   \n",
      "3                    1           1.62           1                  N   \n",
      "4                    1           6.02           1                  N   \n",
      "...                ...            ...         ...                ...   \n",
      "49995                1           2.45           1                  N   \n",
      "49996                1           0.65           1                  N   \n",
      "49997                1           1.16           1                  N   \n",
      "49998                1           1.03           1                  N   \n",
      "49999                1           1.40           1                  N   \n",
      "\n",
      "       pulocationid  dolocationid  payment_type  fare_amount  extra  mta_tax  \\\n",
      "0               186            48             1         14.0    0.0      0.5   \n",
      "1                48           163             1          7.0    0.0      0.5   \n",
      "2               246           246             1          5.0    0.0      0.5   \n",
      "3               246           158             1         10.5    0.0      0.5   \n",
      "4               249           236             1         27.5    0.0      0.5   \n",
      "...             ...           ...           ...          ...    ...      ...   \n",
      "49995           161           263             1         12.5    0.0      0.5   \n",
      "49996           234           186             2          8.5    0.0      0.5   \n",
      "49997            90           161             1         10.0    0.0      0.5   \n",
      "49998           230           186             2          8.0    0.0      0.5   \n",
      "49999           186           230             2         13.5    0.0      0.5   \n",
      "\n",
      "       tip_amount  tolls_amount  improvement_surcharge  total_amount  \\\n",
      "0            3.46           0.0                    0.3         20.76   \n",
      "1            2.06           0.0                    0.3         12.36   \n",
      "2            1.66           0.0                    0.3          9.96   \n",
      "3            2.76           0.0                    0.3         16.56   \n",
      "4            6.16           0.0                    0.3         36.96   \n",
      "...           ...           ...                    ...           ...   \n",
      "49995        3.16           0.0                    0.3         18.96   \n",
      "49996        0.00           0.0                    0.3         11.80   \n",
      "49997        2.66           0.0                    0.3         15.96   \n",
      "49998        0.00           0.0                    0.3         11.30   \n",
      "49999        0.00           0.0                    0.3         16.80   \n",
      "\n",
      "       congestion_surcharge  \n",
      "0                       2.5  \n",
      "1                       2.5  \n",
      "2                       2.5  \n",
      "3                       2.5  \n",
      "4                       2.5  \n",
      "...                     ...  \n",
      "49995                   2.5  \n",
      "49996                   2.5  \n",
      "49997                   2.5  \n",
      "49998                   2.5  \n",
      "49999                   2.5  \n",
      "\n",
      "[50000 rows x 19 columns]\n"
     ]
    }
   ],
   "source": [
    "import pandas as pd\n",
    "\n",
    "df = pd.read_csv('2019_Yellow_Taxi_Trip_Data.csv')\n",
    "print(df)\n"
   ]
  },
  {
   "cell_type": "code",
   "execution_count": 4,
   "id": "b5d50a86",
   "metadata": {},
   "outputs": [
    {
     "name": "stdout",
     "output_type": "stream",
     "text": [
      "Jumlah baris: 50000\n",
      "Jumlah kolom: 19\n"
     ]
    }
   ],
   "source": [
    "import pandas as pd\n",
    "\n",
    "df = pd.read_csv('2019_Yellow_Taxi_Trip_Data.csv')\n",
    "\n",
    "print('Jumlah baris:', df.shape[0])\n",
    "print('Jumlah kolom:', df.shape[1])\n"
   ]
  },
  {
   "cell_type": "code",
   "execution_count": 5,
   "id": "f7584ded",
   "metadata": {},
   "outputs": [
    {
     "name": "stdout",
     "output_type": "stream",
     "text": [
      "        fare_amount    tip_amount  tolls_amount  total_amount\n",
      "count  50000.000000  50000.000000  50000.000000  50000.000000\n",
      "mean      13.882040      2.325813      0.442890     19.776047\n",
      "std       12.368066      2.922266      1.778999     15.302081\n",
      "min     -130.000000     -2.200000    -21.620000   -151.920000\n",
      "25%        7.000000      0.000000      0.000000     11.750000\n",
      "50%       10.500000      1.960000      0.000000     15.340000\n",
      "75%       16.000000      3.060000      0.000000     21.360000\n",
      "max      432.000000    139.000000     37.000000    432.800000\n"
     ]
    }
   ],
   "source": [
    "import pandas as pd\n",
    "\n",
    "df = pd.read_csv('2019_Yellow_Taxi_Trip_Data.csv')\n",
    "\n",
    "# Menghitung summary statistics\n",
    "summary = df[['fare_amount', 'tip_amount', 'tolls_amount', 'total_amount']].describe()\n",
    "print(summary)\n"
   ]
  },
  {
   "cell_type": "code",
   "execution_count": 6,
   "id": "ffa85688",
   "metadata": {},
   "outputs": [
    {
     "name": "stdout",
     "output_type": "stream",
     "text": [
      "       fare_amount  tip_amount  tolls_amount  total_amount\n",
      "33650        300.0        45.0         15.86        361.16\n"
     ]
    }
   ],
   "source": [
    "import pandas as pd\n",
    "\n",
    "df = pd.read_csv('2019_Yellow_Taxi_Trip_Data.csv')\n",
    "max_distance = df['trip_distance'].max()\n",
    "max_distance_df = df[df['trip_distance'] == max_distance]\n",
    "tabel_khusus = max_distance_df[['fare_amount', 'tip_amount', 'tolls_amount', 'total_amount']]\n",
    "print(tabel_khusus)\n"
   ]
  },
  {
   "cell_type": "code",
   "execution_count": 16,
   "id": "20022ef1",
   "metadata": {},
   "outputs": [
    {
     "data": {
      "image/png": "[encoded data removed]",
      "text/plain": [
       "<Figure size 432x288 with 1 Axes>"
      ]
     },
     "metadata": {
      "needs_background": "light"
     },
     "output_type": "display_data"
    }
   ],
   "source": [
    "import pandas as pd\n",
    "import matplotlib.pyplot as plt\n",
    "import seaborn as sns\n",
    "\n",
    "df = pd.read_csv('2019_Yellow_Taxi_Trip_Data.csv')\n",
    "sns.boxplot(x='trip_distance', data=df)\n",
    "sns.stripplot(x='trip_distance', data=df)\n",
    "plt.show()\n"
   ]
  },
  {
   "cell_type": "code",
   "execution_count": 23,
   "id": "53e49a48",
   "metadata": {},
   "outputs": [
    {
     "data": {
      "image/png": "[encoded data removed]",
      "text/plain": [
       "<Figure size 432x288 with 1 Axes>"
      ]
     },
     "metadata": {
      "needs_background": "light"
     },
     "output_type": "display_data"
    }
   ],
   "source": [
    "import matplotlib.pyplot as plt\n",
    "import pandas as pd\n",
    "import seaborn as sns\n",
    "\n",
    "df = pd.read_csv('2019_Yellow_Taxi_Trip_Data.csv')\n",
    "sns.boxplot(x='fare_amount', data=df)\n",
    "sns.stripplot(x='fare_amount', data=df)\n",
    "plt.show()\n"
   ]
  },
  {
   "cell_type": "code",
   "execution_count": null,
   "id": "68697e33",
   "metadata": {},
   "outputs": [],
   "source": []
  }
 ],
 "metadata": {
  "kernelspec": {
   "display_name": "Python 3",
   "language": "python",
   "name": "python3"
  },
  "language_info": {
   "codemirror_mode": {
    "name": "ipython",
    "version": 3
   },
   "file_extension": ".py",
   "mimetype": "text/x-python",
   "name": "python",
   "nbconvert_exporter": "python",
   "pygments_lexer": "ipython3",
   "version": "3.8.8"
  }
 },
 "nbformat": 4,
 "nbformat_minor": 5
}
